{
 "cells": [
  {
   "cell_type": "code",
   "execution_count": 17,
   "metadata": {
    "collapsed": false
   },
   "outputs": [],
   "source": [
    "from PIL import Image\n",
    "import struct\n",
    "import os\n",
    "\n",
    "def read_image(image_filename,lable_filename):\n",
    "    lable_idx_dict={'0':0,'1':0,'2':0,'3':0,'4':0,'5':0,'6':0,'7':0,'8':0,'9':0};\n",
    "    \n",
    "    image_f = open(image_filename, 'rb')\n",
    "    image_index = 0\n",
    "    image_buf = image_f.read()\n",
    "    image_f.close()\n",
    "    \n",
    "    lable_f = open(lable_filename, 'rb')\n",
    "    lable_index = 0\n",
    "    lable_buf = lable_f.read()\n",
    "    lable_f.close()\n",
    "    \n",
    "    image_magic, images, rows, columns = struct.unpack_from('>IIII',image_buf,image_index)\n",
    "    image_index += struct.calcsize('>IIII')\n",
    "    \n",
    "    lable_magic, lables = struct.unpack_from('>II',lable_buf,lable_index)\n",
    "    lable_index += struct.calcsize('>II')\n",
    "    \n",
    "    for idx in xrange(images):\n",
    "        lable_x = int(struct.unpack_from('>B', lable_buf, lable_index)[0])\n",
    "        lable_index += struct.calcsize('>B')\n",
    "\n",
    "        image = Image.new('L',(columns,rows))\n",
    "        for x in xrange(rows):\n",
    "            for y in xrange(columns):\n",
    "                image.putpixel((y, x), int(struct.unpack_from('>B',image_buf,image_index)[0]))\n",
    "                image_index += struct.calcsize('>B')\n",
    "        image_dir='./train/%d/'%lable_x\n",
    "        name_idx=lable_idx_dict[str(lable_x)]\n",
    "        lable_idx_dict[str(lable_x)]+=1\n",
    "        #print \"lable:%d\"%lable_x\n",
    "        #print \"name_idx:%d\"%name_idx\n",
    "        #print 'save ' + str(name_idx) + 'image'\n",
    "        image.save(image_dir + str(name_idx) + '.png')\n",
    "\n",
    "os.popen('rm -rf ./train')\n",
    "for i in range(10):\n",
    "    image_dir='./train/%d/'%i\n",
    "    os.makedirs(image_dir)\n",
    "\n",
    "read_image('train-images.idx3-ubyte','train-labels.idx1-ubyte')"
   ]
  }
 ],
 "metadata": {
  "kernelspec": {
   "display_name": "Python 2",
   "language": "python",
   "name": "python2"
  },
  "language_info": {
   "codemirror_mode": {
    "name": "ipython",
    "version": 2
   },
   "file_extension": ".py",
   "mimetype": "text/x-python",
   "name": "python",
   "nbconvert_exporter": "python",
   "pygments_lexer": "ipython2",
   "version": "2.7.10"
  }
 },
 "nbformat": 4,
 "nbformat_minor": 2
}
